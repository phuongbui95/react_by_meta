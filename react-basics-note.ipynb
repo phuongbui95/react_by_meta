{
 "cells": [
  {
   "attachments": {},
   "cell_type": "markdown",
   "metadata": {},
   "source": [
    "# React Basics\n",
    "1. Develop familiarity with the React.js library\n",
    "2. Explore state and state-management\n",
    "3. Navigation and assets in React.js\n",
    "\n",
    "=> Building modern UIs on Website's frontend\n",
    "=> Focusing on Components Building  \n",
    "<br>\n",
    "Course topics:\n",
    "1. React components\n",
    "    + 1 or several parts are merged to become a website\n",
    "2. Working with state\n",
    "    + State: the values of all variables your app is working with at any give point\n",
    "3. Styling React apps\n",
    "4. Event handling\n",
    "5. Navigation and assets\n",
    "6. Portfolio project"
   ]
  },
  {
   "attachments": {},
   "cell_type": "markdown",
   "metadata": {},
   "source": [
    "### Basic notes of React:\n",
    "+ Using to buil Single-page applications\n",
    "+ Having various interactive UIs\n",
    "+ Being a Client-side library, so needed to integrating with other 3rd-party libraries to work with routing and server-client communication\n",
    "+ Having a powerful composition model, and being recommended to use composition instead of inheritance to reuse code between components => https://legacy.reactjs.org/docs/composition-vs-inheritance.html"
   ]
  },
  {
   "attachments": {},
   "cell_type": "markdown",
   "metadata": {},
   "source": [
    "### Single-page applications:\n",
    "+ Do not need to reload the whole web-page many times with the same contents such as logo, navigation, footer,...\n",
    "+ Rick user interfaces\n",
    "+ Speed up (limit the numbers of reloading)\n",
    "+ Scalability and flexibility "
   ]
  },
  {
   "attachments": {},
   "cell_type": "markdown",
   "metadata": {},
   "source": [
    "### Component-based architecture\n",
    "+ Build software based on <b>reusable components of code</b>\n",
    "+ Components can exist within the same space independently from each other\n",
    "+ Entire website is as just a collection of components\n",
    "+ React components provide Virtual DOM which only updates Browser DOM when needed"
   ]
  },
  {
   "attachments": {},
   "cell_type": "markdown",
   "metadata": {},
   "source": [
    "### Components\n",
    "1. Functional components:<br>\n",
    "<code>\n",
    "function Welcome() {\n",
    "    <br>return \\<h1>\"Hello\"\\</h1>\n",
    "<br>};\n",
    "</code>\n",
    "2. Class components:<br>\n",
    "<code>\n",
    "class Welcome extends React.Component {\n",
    "    <br>render() {\n",
    "        return \\<h1>\"Hello\"\\</h1>\n",
    "    <br>};\n",
    "<br>};\n",
    "</code>"
   ]
  },
  {
   "attachments": {},
   "cell_type": "markdown",
   "metadata": {},
   "source": [
    "index.js\n",
    "\n",
    "<code>\n",
    "import React from 'react':<br>\n",
    "import ReactDOM from 'react-dom/client';\n",
    "\n",
    "import App from './App.js'\n",
    "\n",
    "ReactDOM.createRoot(\n",
    "    <br>document.querySelector('#root')<br>\n",
    ").render(\\<App />)\n",
    "</code>"
   ]
  },
  {
   "attachments": {},
   "cell_type": "markdown",
   "metadata": {},
   "source": [
    "React App => Root component => (1) header, (2) sidebar, (3) main\n",
    "\n",
    "JSX = syntax extension to Javascript\n",
    "\n",
    "All React components files must start with a capital letter. For example: App.js, Heading.js, Index.js\n",
    "\n",
    "Transpiling: interpreting a programming language and translating it to a specific target language"
   ]
  },
  {
   "attachments": {},
   "cell_type": "markdown",
   "metadata": {},
   "source": [
    "#### Importing components\n"
   ]
  },
  {
   "attachments": {},
   "cell_type": "markdown",
   "metadata": {},
   "source": [
    "### Virtual DOM"
   ]
  },
  {
   "cell_type": "markdown",
   "metadata": {},
   "source": []
  }
 ],
 "metadata": {
  "language_info": {
   "name": "python"
  },
  "orig_nbformat": 4
 },
 "nbformat": 4,
 "nbformat_minor": 2
}
