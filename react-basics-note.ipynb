{
 "cells": [
  {
   "attachments": {},
   "cell_type": "markdown",
   "metadata": {},
   "source": [
    "# React Basics\n",
    "1. Develop familiarity with the React.js library\n",
    "2. Explore state and state-management\n",
    "3. Navigation and assets in React.js\n",
    "\n",
    "=> Building modern UIs on Website's frontend\n",
    "=> Focusing on Components Building  \n",
    "<br>\n",
    "Course topics:\n",
    "1. React components\n",
    "    + 1 or several parts are merged to become a website\n",
    "2. Working with state\n",
    "    + State: the values of all variables your app is working with at any give point\n",
    "3. Styling React apps\n",
    "4. Event handling\n",
    "5. Navigation and assets\n",
    "6. Portfolio project"
   ]
  },
  {
   "attachments": {},
   "cell_type": "markdown",
   "metadata": {},
   "source": [
    "### Basic notes of React:\n",
    "+ Using to buil Single-page applications\n",
    "+ Having various interactive UIs\n",
    "+ Being a Client-side library, so needed to integrating with other 3rd-party libraries to work with routing and server-client communication\n",
    "+ Having a powerful composition model, and being recommended to use composition instead of inheritance to reuse code between components => https://legacy.reactjs.org/docs/composition-vs-inheritance.html"
   ]
  },
  {
   "attachments": {},
   "cell_type": "markdown",
   "metadata": {},
   "source": [
    "### Single-page applications:\n",
    "+ Do not need to reload the whole web-page many times with the same contents such as logo, navigation, footer,...\n",
    "+ Rick user interfaces\n",
    "+ Speed up (limit the numbers of reloading)\n",
    "+ Scalability and flexibility "
   ]
  },
  {
   "attachments": {},
   "cell_type": "markdown",
   "metadata": {},
   "source": [
    "### Component-based architecture"
   ]
  },
  {
   "attachments": {},
   "cell_type": "markdown",
   "metadata": {},
   "source": [
    "### Components"
   ]
  },
  {
   "attachments": {},
   "cell_type": "markdown",
   "metadata": {},
   "source": [
    "### Virtual DOM"
   ]
  },
  {
   "cell_type": "markdown",
   "metadata": {},
   "source": []
  }
 ],
 "metadata": {
  "language_info": {
   "name": "python"
  },
  "orig_nbformat": 4
 },
 "nbformat": 4,
 "nbformat_minor": 2
}
