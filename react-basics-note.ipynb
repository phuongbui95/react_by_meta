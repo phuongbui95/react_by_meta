{
 "cells": [
  {
   "attachments": {},
   "cell_type": "markdown",
   "metadata": {},
   "source": [
    "# React Basics\n",
    "1. Develop familiarity with the React.js library\n",
    "2. Explore state and state-management\n",
    "3. Navigation and assets in React.js\n",
    "\n",
    "=> Building modern UIs on Website's frontend\n",
    "=> Focusing on Components Building  \n",
    "<br>\n",
    "Course topics:\n",
    "1. React components\n",
    "    + 1 or several parts are merged to become a website\n",
    "2. Working with state\n",
    "    + State: the values of all variables your app is working with at any give point\n",
    "3. Styling React apps\n",
    "4. Event handling\n",
    "5. Navigation and assets\n",
    "6. Portfolio project"
   ]
  },
  {
   "attachments": {},
   "cell_type": "markdown",
   "metadata": {},
   "source": [
    "### Basic notes of React:\n",
    "+ Using to buil Single-page applications\n",
    "+ Having various interactive UIs\n",
    "+ Being a Client-side library, so needed to integrating with other 3rd-party libraries to work with routing and server-client communication\n",
    "+ Having a powerful composition model, and being recommended to use composition instead of inheritance to reuse code between components => https://legacy.reactjs.org/docs/composition-vs-inheritance.html"
   ]
  },
  {
   "attachments": {},
   "cell_type": "markdown",
   "metadata": {},
   "source": [
    "### Single-page applications:\n",
    "+ Do not need to reload the whole web-page many times with the same contents such as logo, navigation, footer,...\n",
    "+ Rick user interfaces\n",
    "+ Speed up (limit the numbers of reloading)\n",
    "+ Scalability and flexibility "
   ]
  },
  {
   "attachments": {},
   "cell_type": "markdown",
   "metadata": {},
   "source": [
    "### Component-based architecture\n",
    "+ Build software based on <b>reusable components of code</b>\n",
    "+ Components can exist within the same space independently from each other\n",
    "+ Entire website is as just a collection of components\n",
    "+ React components provide Virtual DOM which only updates Browser DOM when needed"
   ]
  },
  {
   "attachments": {},
   "cell_type": "markdown",
   "metadata": {},
   "source": [
    "### Components\n",
    "1. Functional components:<br>\n",
    "<code>\n",
    "function Welcome() {\n",
    "    <br>return \\<h1>\"Hello\"\\</h1>\n",
    "<br>};\n",
    "</code>\n",
    "2. Class components:<br>\n",
    "<code>\n",
    "class Welcome extends React.Component {\n",
    "    <br>render() {\n",
    "        return \\<h1>\"Hello\"\\</h1>\n",
    "    <br>};\n",
    "<br>};\n",
    "</code>"
   ]
  },
  {
   "attachments": {},
   "cell_type": "markdown",
   "metadata": {},
   "source": [
    "index.js\n",
    "\n",
    "<code>\n",
    "import React from 'react':<br>\n",
    "import ReactDOM from 'react-dom/client';\n",
    "\n",
    "import App from './App.js'\n",
    "\n",
    "ReactDOM.createRoot(\n",
    "    <br>document.querySelector('#root')<br>\n",
    ").render(\\<App />)\n",
    "</code>"
   ]
  },
  {
   "attachments": {},
   "cell_type": "markdown",
   "metadata": {},
   "source": [
    "React App => Root component => (1) header, (2) sidebar, (3) main\n",
    "\n",
    "JSX = syntax extension to Javascript\n",
    "\n",
    "All React components files must start with a capital letter. For example: App.js, Heading.js, Index.js\n",
    "\n",
    "Transpiling: interpreting a programming language and translating it to a specific target language"
   ]
  },
  {
   "attachments": {},
   "cell_type": "markdown",
   "metadata": {},
   "source": [
    "#### Importing components\n",
    "+ node_modules: all required modules to run react app\n",
    "+ public: logo, image, index.html...\n",
    "+ src: Javascript, ReactJS and CSS files\n",
    "+ .gitignore: setup for version control.\n",
    "+ README.md: used to display the info to introduce this project to the public\n",
    "+ .json: needed info to work on other machine of the working node\n",
    "\n",
    "+ React app = collection of different components\n",
    "\n",
    "+ Modules: stand-alone units of code that you can re-use again and again\n",
    "    + components/\n",
    "        + Header.js\n",
    "        + Main.js\n",
    "        + Footer.js\n",
    "        \n",
    "<code>\n",
    "//import statement<br>\n",
    "import {Header} from \"Header.js\";<br>\n",
    "\n",
    "//export statement<br>\n",
    "export default Header<br>\n",
    "</code>\n",
    "\n",
    "Exports<br>\n",
    "<code>\n",
    "//Default exports<br>\n",
    "export default App;\n",
    "\n",
    "//Named exports<br>\n",
    "export {App}\n",
    "</code>"
   ]
  },
  {
   "attachments": {},
   "cell_type": "markdown",
   "metadata": {},
   "source": [
    "Component = small piece of functionality<br>\n",
    "Module = series of components<br>\n",
    "\n",
    "=> Modular programming "
   ]
  },
  {
   "attachments": {},
   "cell_type": "markdown",
   "metadata": {},
   "source": [
    "#### Structure components in react\n",
    "In common, we place all components in a folder named components<br>\n",
    "App.js => Header.js, Main.js, Footer.js (Sidebar.js, Button.js, Other.js)\n"
   ]
  },
  {
   "attachments": {},
   "cell_type": "markdown",
   "metadata": {},
   "source": [
    "### Principles of Components"
   ]
  },
  {
   "attachments": {},
   "cell_type": "markdown",
   "metadata": {},
   "source": [
    "#### Props (Properties) Object\n",
    "Properties Object is a Javascript object with key-pair value.\n",
    "\n",
    "React props: https://www.w3schools.com/react/react_props.asp\n",
    "+ Pass data between components\n",
    "+ Arguments are passed like HTML attributes\n",
    "+ Uses the keyword props\n",
    "+ Communication flow (one direction):\n",
    "    + Parent component (index.js) -> Child components (e.g. App.js)\n",
    "+ Pure functions: same output for the same argument values, cannot modify its own props"
   ]
  },
  {
   "attachments": {},
   "cell_type": "markdown",
   "metadata": {},
   "source": [
    "#### Nav component\n",
    "https://www.geeksforgeeks.org/reactjs-reactstrap-nav-component/"
   ]
  },
  {
   "attachments": {},
   "cell_type": "markdown",
   "metadata": {},
   "source": [
    "### Introducing to JSX\n",
    "https://www.w3schools.com/react/react_jsx.asp<br>\n",
    "Write HTML directly inside Javascript code<br>\n",
    "JSX rules\n",
    "+ return(\\<JSX code>) to return multiple lines of HTML code\n",
    "+ HTML code must be wrapped in a top level element such as \\<div>. If you do not need to add \\<div>, use <> </>\n",
    "+ use <code>className</code> instead of <code>class</code>\n",
    "\n",
    "+ Embedded expressions: allow JavaScript values to be inserted into HTML of React element"
   ]
  },
  {
   "attachments": {},
   "cell_type": "markdown",
   "metadata": {},
   "source": [
    "## Events\n",
    "\n",
    "Javascript events: Clicks, Movements, Commands<br>\n",
    "For example: Button <--(listening) Event (trigger)  --> Function<br>\n",
    "<code>\\<button onclick=\"addCart()\">Add to cart\\</button></code><br>\n",
    "<code>function addCart(cartNumber) {<br>\n",
    "    cartNumber += 1<br>\n",
    "    return cartNumber<br>\n",
    "}</code>"
   ]
  },
  {
   "attachments": {},
   "cell_type": "markdown",
   "metadata": {},
   "source": [
    "onclick (HTML) => onClick (JSX)\n",
    "\n",
    "Event Groups:\n",
    "+ Clipboard events\n",
    "+ Composition events\n",
    "+ Keyboard events\n",
    "+ Mouse events\n",
    "+ Selection events\n",
    "+ Touch events\n",
    "+ Wheel events\n",
    "+ Animation events\n",
    "+ ...more!\n",
    "\n",
    "For example: \n",
    "+ Mouse events\n",
    "    + onClick\n",
    "    + onContextMenu\n",
    "    + onDoubleClick\n",
    "    + onDrag\n",
    "    + onDrop\n",
    "    + onMouseDown\n",
    "    + onMouseUp\n",
    "    + onMouseEnter\n",
    "    + onMouseLeave\n",
    "    + onMouseOver\n",
    "    + ...more\n",
    "+ Clipboard Events\n",
    "    + onCopy\n",
    "    + onCut\n",
    "    + onPaste"
   ]
  },
  {
   "attachments": {},
   "cell_type": "markdown",
   "metadata": {},
   "source": [
    "### Syntax for handlers"
   ]
  },
  {
   "attachments": {},
   "cell_type": "markdown",
   "metadata": {},
   "source": [
    "Event => Event Handler => Action\n",
    "\n",
    "Javascript Event Handling<br>\n",
    "<code>\n",
    "const jsBtn = document.getElementbyID('js-btn')<br>\n",
    "jsBtn.addEventListener('click', function() {<br>\n",
    "    console.log('clicked');<br>\n",
    "})<br>\n",
    "</code>\n",
    "=> directly interact with real DOM<br>\n",
    "\n",
    "React avoids manipulating the DOM directly. Just declare meaning to react and let it figure out the rest = pass a reference to the event handling function without invoking it"
   ]
  },
  {
   "attachments": {},
   "cell_type": "markdown",
   "metadata": {},
   "source": [
    "### Parent-child data flow<br>\n",
    "Promo: parent component<br>\n",
    "Promoheading: child component\n",
    "\n",
    "How do we update parent-child relationship?\n",
    "+ In parent component, assign data variable as a Prop object (key-value).\n",
    "+ Assign data from parent component to children component at Parent node.\n",
    "+ In child component, use \"props\" as function element to use properties assigned from child node.\n",
    "\n",
    "=> Storing data from parent component, then using \"props\" to dymanically pass it to the child components without the need to update children components individually"
   ]
  },
  {
   "attachments": {},
   "cell_type": "markdown",
   "metadata": {},
   "source": [
    "#### Children and data<br>\n",
    "\n",
    "Data in React:\n",
    "1. Props' data = data <b>outside</b> the component that it receives and works with but cannot mutate\n",
    "2. State's data = data <b>inside</b> the component that it controls and can mutate"
   ]
  },
  {
   "attachments": {},
   "cell_type": "markdown",
   "metadata": {},
   "source": [
    "### Hooks\n",
    "\n",
    "Functions that let you hook into React state and lifecycle features from components.\n",
    "+ Import the useState\n",
    "    + <code>import React, {useState} from 'react';</code>\n",
    "+ Declare a state variable\n",
    "    + <code>const [state, setState] = React.useState(initialState);</code> => array destructuring\n",
    "    + For example: <code>const [showMenu, setShowMenu] = React.useState(false);</code>\n",
    "    + Without array destructuring:\n",
    "        + <code>var menuState = React.useState(false);</code>\n",
    "        + <code>var showMenu = menuState[0]; //access 1st item in array</code>\n",
    "        + <code>var setShowMenu = menuState[1]; //access 2nd item in array</code>\n"
   ]
  },
  {
   "attachments": {},
   "cell_type": "markdown",
   "metadata": {},
   "source": [
    "State => Data in a component that determines behavior<br>\n",
    "useState hook => enables use of components for controlling state"
   ]
  },
  {
   "attachments": {},
   "cell_type": "markdown",
   "metadata": {},
   "source": [
    "Observing state: Lemon.js\n",
    "\n",
    "Managing state: \n",
    "+ Prop drilling\n",
    "+ Global state\n",
    "+ Context API (recommended)"
   ]
  },
  {
   "attachments": {},
   "cell_type": "markdown",
   "metadata": {},
   "source": [
    "### React State Management"
   ]
  },
  {
   "attachments": {},
   "cell_type": "markdown",
   "metadata": {},
   "source": [
    "#### Context API\n",
    "+ Context Provider: component that stores the state\n",
    "+ Context Consumer: component that will use the state"
   ]
  },
  {
   "attachments": {},
   "cell_type": "markdown",
   "metadata": {},
   "source": [
    "+ useState Hook\n",
    "+ useReducer Hook: https://www.w3schools.com/react/react_usereducer.asp"
   ]
  },
  {
   "attachments": {},
   "cell_type": "markdown",
   "metadata": {},
   "source": [
    "Use cases:\n",
    "1. Stateless => state not needed to work\n",
    "2. Stateful => state must be maintained to work\n",
    "\n",
    "As usual, parent component is stateful and child components are stateless"
   ]
  },
  {
   "attachments": {},
   "cell_type": "markdown",
   "metadata": {},
   "source": [
    "## Links and Routing"
   ]
  },
  {
   "attachments": {},
   "cell_type": "markdown",
   "metadata": {},
   "source": [
    "### Basic types of Navigation\n",
    "\n",
    "Web desing: settled on accepted and expected desgins<br>\n",
    "=> Rule of thumb: Don't Make Me Think!\n",
    "\n",
    "Website Navigation: browse through various pages or links from a single component\n",
    "+ Horizontal navigation bar = nav-bar\n",
    "+ Vertical navigation menu = sidebar\n",
    "+ Menu hiding behind a button:\n",
    "    + Burger icon/ Burger menu: usually icon that hase 3 horizontal lines\n",
    "    + Mega menu: drop-down navigation menu.\n",
    "+ Footer navigation menu => visual columns containing links"
   ]
  },
  {
   "attachments": {},
   "cell_type": "markdown",
   "metadata": {},
   "source": [
    "#### React Navigation\n",
    "\n",
    "React Router: a library that gives you more control over the routing of components<br>\n",
    "Install library: npm i react-router-dom@6\n",
    "\n",
    "Add <code>import {BrowserRouter} from 'react-router-dom'</code> to index.js<br>\n",
    "Then wrap \\<App /> (in index.js) in \\<BrowserRouter><br>\n",
    "Add <code>import {Routes, Route} from 'react-router-dom'</code> to App.js<br>"
   ]
  },
  {
   "attachments": {},
   "cell_type": "markdown",
   "metadata": {},
   "source": [
    "#### Conditional rendering\n",
    "\n",
    "Single view conditional updates"
   ]
  },
  {
   "attachments": {},
   "cell_type": "markdown",
   "metadata": {},
   "source": [
    "## React Assets and where are they?\n",
    "\n",
    "+ Assets = images, stylesheets, fonts or any files needed\n",
    "+ Source folder (src) -> Assets folder\n",
    "+ Public folder (public) -> favicon.ico\n"
   ]
  },
  {
   "attachments": {},
   "cell_type": "markdown",
   "metadata": {},
   "source": [
    "Audio and video\n",
    "+ Method 1: use <code><video /></code>\n",
    "+ Method 2: Embedded third-party videos\n",
    "+ Method 3: third-party NPM package\n",
    "    + Check frequency of updates\n",
    "    + Check Github page\n",
    "    + Do more researches on package name\n",
    "    + Example: https://github.com/CookPete/react-player"
   ]
  },
  {
   "cell_type": "markdown",
   "metadata": {},
   "source": []
  }
 ],
 "metadata": {
  "language_info": {
   "name": "python"
  },
  "orig_nbformat": 4
 },
 "nbformat": 4,
 "nbformat_minor": 2
}
